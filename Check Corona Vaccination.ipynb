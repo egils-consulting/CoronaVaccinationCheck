{
 "cells": [
  {
   "cell_type": "markdown",
   "metadata": {},
   "source": [
    "### Check Corona Vaccinations \n",
    "version 0.3\n",
    "\n",
    "* [this Notebook](https://github.com/salgo60/CoronaVaccinationCheck/blob/master/Check%20Corona%20Vaccination.ipynb) \n",
    "\n",
    "* read the data on [github.com/owid/covid-19-data...vaccinations/country_data](https://github.com/owid/covid-19-data/tree/master/public/data/vaccinations/country_data)\n",
    "  * Data is reported cummulated for United Kingdom but also subnational data England, Scotland, Northern Ireland, Wales see [issue 228](https://github.com/owid/covid-19-data/issues/228)\n",
    "     * subnational data have been published quite irregularly so far ==> we filter them out"
   ]
  },
  {
   "cell_type": "code",
   "execution_count": 1,
   "metadata": {},
   "outputs": [
    {
     "name": "stdout",
     "output_type": "stream",
     "text": [
      "Last run:  2020-12-26 08:23:50.770288\n"
     ]
    }
   ],
   "source": [
    "from datetime import datetime\n",
    "start_time  = datetime.now()\n",
    "print(\"Last run: \", start_time)"
   ]
  },
  {
   "cell_type": "code",
   "execution_count": 2,
   "metadata": {},
   "outputs": [],
   "source": [
    "import pandas as pd\n",
    "GITHUB_directory = \"https://api.github.com/repos/owid/covid-19-data/contents/public/data/vaccinations/country_data\"  \n",
    "countries = pd.read_json(GITHUB_directory)  \n",
    "listcountries = []\n",
    "for index,row in countries.iterrows():\n",
    "    df = pd.read_csv(row[\"download_url\"])\n",
    "    listcountries.append(df)\n",
    "    \n",
    "allCountries = pd.concat(listcountries, axis=0, ignore_index=True)    "
   ]
  },
  {
   "cell_type": "code",
   "execution_count": 3,
   "metadata": {},
   "outputs": [
    {
     "data": {
      "text/html": [
       "<div>\n",
       "<style scoped>\n",
       "    .dataframe tbody tr th:only-of-type {\n",
       "        vertical-align: middle;\n",
       "    }\n",
       "\n",
       "    .dataframe tbody tr th {\n",
       "        vertical-align: top;\n",
       "    }\n",
       "\n",
       "    .dataframe thead th {\n",
       "        text-align: right;\n",
       "    }\n",
       "</style>\n",
       "<table border=\"1\" class=\"dataframe\">\n",
       "  <thead>\n",
       "    <tr style=\"text-align: right;\">\n",
       "      <th></th>\n",
       "      <th>location</th>\n",
       "      <th>date</th>\n",
       "      <th>vaccine</th>\n",
       "      <th>total_vaccinations</th>\n",
       "      <th>source_url</th>\n",
       "    </tr>\n",
       "  </thead>\n",
       "  <tbody>\n",
       "    <tr>\n",
       "      <th>2</th>\n",
       "      <td>Bahrain</td>\n",
       "      <td>2020-12-25</td>\n",
       "      <td>Sinopharm</td>\n",
       "      <td>50543</td>\n",
       "      <td>https://twitter.com/MOH_Bahrain/status/1342560...</td>\n",
       "    </tr>\n",
       "    <tr>\n",
       "      <th>29</th>\n",
       "      <td>United Kingdom</td>\n",
       "      <td>2020-12-24</td>\n",
       "      <td>Pfizer/BioNTech</td>\n",
       "      <td>800000</td>\n",
       "      <td>https://www.gov.uk/government/speeches/prime-m...</td>\n",
       "    </tr>\n",
       "    <tr>\n",
       "      <th>20</th>\n",
       "      <td>Israel</td>\n",
       "      <td>2020-12-24</td>\n",
       "      <td>Pfizer/BioNTech</td>\n",
       "      <td>208600</td>\n",
       "      <td>https://www.gov.il/he/departments/news/2512202...</td>\n",
       "    </tr>\n",
       "    <tr>\n",
       "      <th>1</th>\n",
       "      <td>Bahrain</td>\n",
       "      <td>2020-12-24</td>\n",
       "      <td>Sinopharm</td>\n",
       "      <td>50071</td>\n",
       "      <td>https://twitter.com/MOH_Bahrain/status/1342189...</td>\n",
       "    </tr>\n",
       "    <tr>\n",
       "      <th>13</th>\n",
       "      <td>Canada</td>\n",
       "      <td>2020-12-24</td>\n",
       "      <td>Pfizer/BioNTech</td>\n",
       "      <td>43525</td>\n",
       "      <td>https://github.com/ishaberry/Covid19Canada/blo...</td>\n",
       "    </tr>\n",
       "    <tr>\n",
       "      <th>0</th>\n",
       "      <td>Bahrain</td>\n",
       "      <td>2020-12-23</td>\n",
       "      <td>Sinopharm</td>\n",
       "      <td>38965</td>\n",
       "      <td>https://twitter.com/MOH_Bahrain/status/1341855...</td>\n",
       "    </tr>\n",
       "    <tr>\n",
       "      <th>30</th>\n",
       "      <td>United States</td>\n",
       "      <td>2020-12-23</td>\n",
       "      <td>Moderna, Pfizer/BioNTech</td>\n",
       "      <td>1008025</td>\n",
       "      <td>https://covid.cdc.gov/covid-data-tracker/#vacc...</td>\n",
       "    </tr>\n",
       "    <tr>\n",
       "      <th>19</th>\n",
       "      <td>Israel</td>\n",
       "      <td>2020-12-23</td>\n",
       "      <td>Pfizer/BioNTech</td>\n",
       "      <td>134500</td>\n",
       "      <td>https://www.gov.il/he/departments/news/2512202...</td>\n",
       "    </tr>\n",
       "    <tr>\n",
       "      <th>12</th>\n",
       "      <td>Canada</td>\n",
       "      <td>2020-12-23</td>\n",
       "      <td>Pfizer/BioNTech</td>\n",
       "      <td>35204</td>\n",
       "      <td>https://github.com/ishaberry/Covid19Canada/blo...</td>\n",
       "    </tr>\n",
       "    <tr>\n",
       "      <th>11</th>\n",
       "      <td>Canada</td>\n",
       "      <td>2020-12-22</td>\n",
       "      <td>Pfizer/BioNTech</td>\n",
       "      <td>26287</td>\n",
       "      <td>https://github.com/ishaberry/Covid19Canada/blo...</td>\n",
       "    </tr>\n",
       "    <tr>\n",
       "      <th>18</th>\n",
       "      <td>Israel</td>\n",
       "      <td>2020-12-22</td>\n",
       "      <td>Pfizer/BioNTech</td>\n",
       "      <td>74000</td>\n",
       "      <td>https://www.gov.il/he/departments/news/2512202...</td>\n",
       "    </tr>\n",
       "    <tr>\n",
       "      <th>10</th>\n",
       "      <td>Canada</td>\n",
       "      <td>2020-12-21</td>\n",
       "      <td>Pfizer/BioNTech</td>\n",
       "      <td>20866</td>\n",
       "      <td>https://github.com/ishaberry/Covid19Canada/blo...</td>\n",
       "    </tr>\n",
       "    <tr>\n",
       "      <th>31</th>\n",
       "      <td>United States</td>\n",
       "      <td>2020-12-21</td>\n",
       "      <td>Moderna, Pfizer/BioNTech</td>\n",
       "      <td>614117</td>\n",
       "      <td>https://covid.cdc.gov/covid-data-tracker/#vacc...</td>\n",
       "    </tr>\n",
       "    <tr>\n",
       "      <th>17</th>\n",
       "      <td>Israel</td>\n",
       "      <td>2020-12-21</td>\n",
       "      <td>Pfizer/BioNTech</td>\n",
       "      <td>31400</td>\n",
       "      <td>https://www.gov.il/he/departments/news/2512202...</td>\n",
       "    </tr>\n",
       "    <tr>\n",
       "      <th>28</th>\n",
       "      <td>United Kingdom</td>\n",
       "      <td>2020-12-20</td>\n",
       "      <td>Pfizer/BioNTech</td>\n",
       "      <td>616933</td>\n",
       "      <td>https://coronavirus.data.gov.uk/</td>\n",
       "    </tr>\n",
       "  </tbody>\n",
       "</table>\n",
       "</div>"
      ],
      "text/plain": [
       "          location        date  ... total_vaccinations                                         source_url\n",
       "2          Bahrain  2020-12-25  ...              50543  https://twitter.com/MOH_Bahrain/status/1342560...\n",
       "29  United Kingdom  2020-12-24  ...             800000  https://www.gov.uk/government/speeches/prime-m...\n",
       "20          Israel  2020-12-24  ...             208600  https://www.gov.il/he/departments/news/2512202...\n",
       "1          Bahrain  2020-12-24  ...              50071  https://twitter.com/MOH_Bahrain/status/1342189...\n",
       "13          Canada  2020-12-24  ...              43525  https://github.com/ishaberry/Covid19Canada/blo...\n",
       "0          Bahrain  2020-12-23  ...              38965  https://twitter.com/MOH_Bahrain/status/1341855...\n",
       "30   United States  2020-12-23  ...            1008025  https://covid.cdc.gov/covid-data-tracker/#vacc...\n",
       "19          Israel  2020-12-23  ...             134500  https://www.gov.il/he/departments/news/2512202...\n",
       "12          Canada  2020-12-23  ...              35204  https://github.com/ishaberry/Covid19Canada/blo...\n",
       "11          Canada  2020-12-22  ...              26287  https://github.com/ishaberry/Covid19Canada/blo...\n",
       "18          Israel  2020-12-22  ...              74000  https://www.gov.il/he/departments/news/2512202...\n",
       "10          Canada  2020-12-21  ...              20866  https://github.com/ishaberry/Covid19Canada/blo...\n",
       "31   United States  2020-12-21  ...             614117  https://covid.cdc.gov/covid-data-tracker/#vacc...\n",
       "17          Israel  2020-12-21  ...              31400  https://www.gov.il/he/departments/news/2512202...\n",
       "28  United Kingdom  2020-12-20  ...             616933                   https://coronavirus.data.gov.uk/\n",
       "\n",
       "[15 rows x 5 columns]"
      ]
     },
     "execution_count": 3,
     "metadata": {},
     "output_type": "execute_result"
    }
   ],
   "source": [
    "# Show 15 latest sorted by dates\n",
    "allCountries.sort_values(by=['date'],ascending=False)[0:15]"
   ]
  },
  {
   "cell_type": "code",
   "execution_count": 4,
   "metadata": {},
   "outputs": [
    {
     "data": {
      "text/plain": [
       "Canada              11\n",
       "Israel               5\n",
       "United States        4\n",
       "Bahrain              3\n",
       "Russia               3\n",
       "Northern Ireland     2\n",
       "Scotland             2\n",
       "Wales                2\n",
       "United Kingdom       2\n",
       "England              1\n",
       "China                1\n",
       "Name: location, dtype: int64"
      ]
     },
     "execution_count": 4,
     "metadata": {},
     "output_type": "execute_result"
    }
   ],
   "source": [
    "#Countries in list\n",
    "allCountries[\"location\"].value_counts()"
   ]
  },
  {
   "cell_type": "code",
   "execution_count": 5,
   "metadata": {},
   "outputs": [
    {
     "data": {
      "text/plain": [
       "location          vaccine                 \n",
       "Bahrain           Sinopharm                    3\n",
       "Canada            Pfizer/BioNTech             11\n",
       "China             CNBG, Sinovac                1\n",
       "England           Pfizer/BioNTech              1\n",
       "Israel            Pfizer/BioNTech              5\n",
       "Northern Ireland  Pfizer/BioNTech              2\n",
       "Russia            Sputnik V                    3\n",
       "Scotland          Pfizer/BioNTech              2\n",
       "United Kingdom    Pfizer/BioNTech              2\n",
       "United States     Moderna, Pfizer/BioNTech     4\n",
       "Wales             Pfizer/BioNTech              2\n",
       "dtype: int64"
      ]
     },
     "execution_count": 5,
     "metadata": {},
     "output_type": "execute_result"
    }
   ],
   "source": [
    "allCountries.groupby([\"location\", \"vaccine\"]).size()"
   ]
  },
  {
   "cell_type": "code",
   "execution_count": 6,
   "metadata": {},
   "outputs": [
    {
     "name": "stdout",
     "output_type": "stream",
     "text": [
      "<class 'pandas.core.frame.DataFrame'>\n",
      "Int64Index: 29 entries, 0 to 33\n",
      "Data columns (total 5 columns):\n",
      " #   Column              Non-Null Count  Dtype         \n",
      "---  ------              --------------  -----         \n",
      " 0   location            29 non-null     object        \n",
      " 1   date                29 non-null     datetime64[ns]\n",
      " 2   vaccine             29 non-null     object        \n",
      " 3   total_vaccinations  29 non-null     int64         \n",
      " 4   source_url          29 non-null     object        \n",
      "dtypes: datetime64[ns](1), int64(1), object(3)\n",
      "memory usage: 1.4+ KB\n"
     ]
    }
   ],
   "source": [
    "allCountries['date'] = allCountries['date'].astype('datetime64[ns]')   \n",
    "\n",
    "# Filter away Wales , England, Scotland see above and [issue 228](https://github.com/owid/covid-19-data/issues/228)\n",
    "list_of_countries_to_delete = [\"England\",\"Northern Ireland\",\"Scotland\",\"Wales\"]\n",
    "\n",
    "allCountriesFiltered = allCountries[~allCountries[\"location\"].isin(list_of_countries_to_delete)]\n",
    "allCountriesFiltered.info()\n",
    "\n"
   ]
  },
  {
   "cell_type": "code",
   "execution_count": 7,
   "metadata": {},
   "outputs": [
    {
     "data": {
      "image/png": "[encoded data removed]",
      "text/plain": [
       "<Figure size 432x288 with 1 Axes>"
      ]
     },
     "metadata": {},
     "output_type": "display_data"
    }
   ],
   "source": [
    "#Countries\n",
    "%matplotlib inline    \n",
    "import matplotlib.pyplot as plt   \n",
    "\n",
    "#Reported numbers are accumulated --> get latest\n",
    "plotCountries = allCountriesFiltered.sort_values(by=['date'],ascending=False) \\\n",
    "    [['total_vaccinations','location','vaccine']].groupby('location').apply(lambda x: x.head(1))\n",
    "plotCountries = plotCountries.set_index('location')\n",
    "plotCountries[\"total_vaccinations\"].plot( y='location',kind = 'pie') \n",
    "plt.title(\"Vaccination per countries - \" + start_time.strftime('%Y %m %d'))\n",
    "plt.savefig('Corona_VaccinationperCountry.png')  \n",
    "plt.show() \n"
   ]
  },
  {
   "cell_type": "code",
   "execution_count": 8,
   "metadata": {},
   "outputs": [
    {
     "data": {
      "text/html": [
       "<div>\n",
       "<style scoped>\n",
       "    .dataframe tbody tr th:only-of-type {\n",
       "        vertical-align: middle;\n",
       "    }\n",
       "\n",
       "    .dataframe tbody tr th {\n",
       "        vertical-align: top;\n",
       "    }\n",
       "\n",
       "    .dataframe thead th {\n",
       "        text-align: right;\n",
       "    }\n",
       "</style>\n",
       "<table border=\"1\" class=\"dataframe\">\n",
       "  <thead>\n",
       "    <tr style=\"text-align: right;\">\n",
       "      <th></th>\n",
       "      <th>total_vaccinations</th>\n",
       "      <th>vaccine</th>\n",
       "    </tr>\n",
       "    <tr>\n",
       "      <th>location</th>\n",
       "      <th></th>\n",
       "      <th></th>\n",
       "    </tr>\n",
       "  </thead>\n",
       "  <tbody>\n",
       "    <tr>\n",
       "      <th>Canada</th>\n",
       "      <td>43525</td>\n",
       "      <td>Pfizer/BioNTech</td>\n",
       "    </tr>\n",
       "    <tr>\n",
       "      <th>Bahrain</th>\n",
       "      <td>50543</td>\n",
       "      <td>Sinopharm</td>\n",
       "    </tr>\n",
       "    <tr>\n",
       "      <th>Russia</th>\n",
       "      <td>200000</td>\n",
       "      <td>Sputnik V</td>\n",
       "    </tr>\n",
       "    <tr>\n",
       "      <th>Israel</th>\n",
       "      <td>208600</td>\n",
       "      <td>Pfizer/BioNTech</td>\n",
       "    </tr>\n",
       "    <tr>\n",
       "      <th>United Kingdom</th>\n",
       "      <td>800000</td>\n",
       "      <td>Pfizer/BioNTech</td>\n",
       "    </tr>\n",
       "    <tr>\n",
       "      <th>China</th>\n",
       "      <td>1000000</td>\n",
       "      <td>CNBG, Sinovac</td>\n",
       "    </tr>\n",
       "    <tr>\n",
       "      <th>United States</th>\n",
       "      <td>1008025</td>\n",
       "      <td>Moderna, Pfizer/BioNTech</td>\n",
       "    </tr>\n",
       "  </tbody>\n",
       "</table>\n",
       "</div>"
      ],
      "text/plain": [
       "                total_vaccinations                   vaccine\n",
       "location                                                    \n",
       "Canada                       43525           Pfizer/BioNTech\n",
       "Bahrain                      50543                 Sinopharm\n",
       "Russia                      200000                 Sputnik V\n",
       "Israel                      208600           Pfizer/BioNTech\n",
       "United Kingdom              800000           Pfizer/BioNTech\n",
       "China                      1000000             CNBG, Sinovac\n",
       "United States              1008025  Moderna, Pfizer/BioNTech"
      ]
     },
     "execution_count": 8,
     "metadata": {},
     "output_type": "execute_result"
    }
   ],
   "source": [
    "plotCountries.sort_values(by='total_vaccinations',ascending=True)"
   ]
  },
  {
   "cell_type": "code",
   "execution_count": 9,
   "metadata": {},
   "outputs": [
    {
     "data": {
      "text/plain": [
       "total_vaccinations                                              3310693\n",
       "vaccine               SinopharmPfizer/BioNTechCNBG, SinovacPfizer/Bi...\n",
       "dtype: object"
      ]
     },
     "execution_count": 9,
     "metadata": {},
     "output_type": "execute_result"
    }
   ],
   "source": [
    "plotCountries.sum()"
   ]
  },
  {
   "cell_type": "code",
   "execution_count": 10,
   "metadata": {},
   "outputs": [
    {
     "data": {
      "image/png": "[encoded data removed]",
      "text/plain": [
       "<Figure size 432x288 with 1 Axes>"
      ]
     },
     "metadata": {},
     "output_type": "display_data"
    }
   ],
   "source": [
    "# Vaccine numbers\n",
    "plotVaccine = plotCountries.groupby('vaccine')['total_vaccinations'].sum()\n",
    "plotVaccine.plot( kind = 'pie') \n",
    "plt.title(\"Vaccination per Vaccine - \" + start_time.strftime('%Y %m %d'))\n",
    "plt.savefig('Corona_VaccinationperVaccine.png')  \n",
    "plt.show()"
   ]
  },
  {
   "cell_type": "code",
   "execution_count": 11,
   "metadata": {},
   "outputs": [
    {
     "data": {
      "text/plain": [
       "vaccine\n",
       "Sinopharm                     50543\n",
       "Sputnik V                    200000\n",
       "CNBG, Sinovac               1000000\n",
       "Moderna, Pfizer/BioNTech    1008025\n",
       "Pfizer/BioNTech             1052125\n",
       "Name: total_vaccinations, dtype: int64"
      ]
     },
     "execution_count": 11,
     "metadata": {},
     "output_type": "execute_result"
    }
   ],
   "source": [
    "plotVaccine.sort_values(ascending=True)"
   ]
  },
  {
   "cell_type": "code",
   "execution_count": 12,
   "metadata": {},
   "outputs": [],
   "source": [
    "# Sweden have 10 000 doses...."
   ]
  },
  {
   "cell_type": "code",
   "execution_count": 13,
   "metadata": {},
   "outputs": [
    {
     "name": "stdout",
     "output_type": "stream",
     "text": [
      "Ended:  2020-12-26 08:23:52.421455\n",
      "Time elapsed (hh:mm:ss.ms) 0:00:01.651404\n"
     ]
    }
   ],
   "source": [
    "end = datetime.now()\n",
    "print(\"Ended: \", end) \n",
    "print('Time elapsed (hh:mm:ss.ms) {}'.format(datetime.now() - start_time))"
   ]
  },
  {
   "cell_type": "markdown",
   "metadata": {},
   "source": [
    "### Whole dataset\n",
    "see \n",
    "* [COVID-19 Data Processing Pipelines and datasets](https://github.com/covid19-data/covid19-data)"
   ]
  },
  {
   "cell_type": "markdown",
   "metadata": {},
   "source": [
    "### Compare population\n",
    "* using data from Wikidata\n",
    "* \"translates\" the labels to Wikidata Qnumber see reconciliationCountries_dict "
   ]
  },
  {
   "cell_type": "code",
   "execution_count": 14,
   "metadata": {},
   "outputs": [],
   "source": [
    "reconciliationCountries_dict = {\n",
    "    \"Bahrain\" : \"Q398\",\n",
    "    \"Canada\" : \"Q16\",\n",
    "    \"China\" : \"Q148\",\n",
    "    \"Israel\" : \"Q801\",\n",
    "    \"Russia\" : \"Q159\",\n",
    "    \"United Kingdom\" : \"Q145\",\n",
    "    \"United States\" : \"Q30\"}\n",
    "reconciliationCountries = pd.DataFrame.from_dict([reconciliationCountries_dict]).T\n",
    "reconciliationCountries.columns = [\"WD\"]\n",
    "reconciliationCountries.index.name = \"Country\""
   ]
  },
  {
   "cell_type": "code",
   "execution_count": 15,
   "metadata": {},
   "outputs": [
    {
     "name": "stdout",
     "output_type": "stream",
     "text": [
      "<class 'pandas.core.frame.DataFrame'>\n",
      "RangeIndex: 225 entries, 0 to 224\n",
      "Data columns (total 8 columns):\n",
      " #   Column                   Non-Null Count  Dtype \n",
      "---  ------                   --------------  ----- \n",
      " 0   country                  225 non-null    object\n",
      " 1   qid                      225 non-null    object\n",
      " 2   countryLabel             225 non-null    object\n",
      " 3   population               225 non-null    object\n",
      " 4   ISO3166_1                225 non-null    object\n",
      " 5   nominalGDPperCapita      221 non-null    object\n",
      " 6   PPP_GDP_per_capita       215 non-null    object\n",
      " 7   Human_Development_Index  216 non-null    object\n",
      "dtypes: object(8)\n",
      "memory usage: 14.2+ KB\n"
     ]
    }
   ],
   "source": [
    "import sys,json\n",
    "from SPARQLWrapper import SPARQLWrapper, JSON\n",
    "\n",
    "endpoint_url = \"https://query.wikidata.org/sparql\"\n",
    " \n",
    "# https://w.wiki/r$X\n",
    "queryWD = \"\"\"SELECT DISTINCT ?country (REPLACE(STR(?country), \".*Q\", \"Q\") AS ?qid) ?countryLabel ?population ?ISO3166_1 ?nominalGDPperCapita ?PPP_GDP_per_capita ?Human_Development_Index WHERE {\n",
    "  ?country wdt:P31 wd:Q3624078;\n",
    "    wdt:P1082 ?population.\n",
    "  OPTIONAL { ?country wdt:P298 ?ISO3166_1. }\n",
    "  OPTIONAL { ?country wdt:P2132 ?nominalGDPperCapita. }\n",
    "  OPTIONAL { ?country wdt:P2299 ?PPP_GDP_per_capita. }\n",
    "  OPTIONAL { ?country wdt:P1081 ?Human_Development_Index. }\n",
    "  SERVICE wikibase:label { bd:serviceParam wikibase:language \"en\". }\n",
    "}\n",
    "GROUP BY ?population ?countryLabel ?country ?ISO3166_1 ?nominalGDPperCapita ?PPP_GDP_per_capita ?Human_Development_Index\"\"\"\n",
    "\n",
    "\n",
    "def get_sparql_dataframe(endpoint_url, query):\n",
    "    \"\"\"\n",
    "    Helper function to convert SPARQL results into a Pandas data frame.\n",
    "    \"\"\"\n",
    "    user_agent = \"salgo60/%s.%s\" % (sys.version_info[0], sys.version_info[1])\n",
    " \n",
    "    sparql = SPARQLWrapper(endpoint_url, agent=user_agent)\n",
    "    sparql.setQuery(query)\n",
    "    sparql.setReturnFormat(JSON)\n",
    "    result = sparql.query()\n",
    "\n",
    "    processed_results = json.load(result.response)\n",
    "    cols = processed_results['head']['vars']\n",
    "\n",
    "    out = []\n",
    "    for row in processed_results['results']['bindings']:\n",
    "        item = []\n",
    "        for c in cols:\n",
    "            item.append(row.get(c, {}).get('value'))\n",
    "        out.append(item)\n",
    "\n",
    "    return pd.DataFrame(out, columns=cols)\n",
    "\n",
    "WDpopulation = get_sparql_dataframe(endpoint_url, queryWD)\n",
    "WDpopulation.info()"
   ]
  },
  {
   "cell_type": "code",
   "execution_count": 16,
   "metadata": {},
   "outputs": [],
   "source": [
    "#plotCountries"
   ]
  },
  {
   "cell_type": "code",
   "execution_count": 17,
   "metadata": {},
   "outputs": [
    {
     "data": {
      "text/html": [
       "<div>\n",
       "<style scoped>\n",
       "    .dataframe tbody tr th:only-of-type {\n",
       "        vertical-align: middle;\n",
       "    }\n",
       "\n",
       "    .dataframe tbody tr th {\n",
       "        vertical-align: top;\n",
       "    }\n",
       "\n",
       "    .dataframe thead th {\n",
       "        text-align: right;\n",
       "    }\n",
       "</style>\n",
       "<table border=\"1\" class=\"dataframe\">\n",
       "  <thead>\n",
       "    <tr style=\"text-align: right;\">\n",
       "      <th></th>\n",
       "      <th>total_vaccinations</th>\n",
       "      <th>vaccine</th>\n",
       "      <th>WD</th>\n",
       "      <th>_merge</th>\n",
       "    </tr>\n",
       "    <tr>\n",
       "      <th>location</th>\n",
       "      <th></th>\n",
       "      <th></th>\n",
       "      <th></th>\n",
       "      <th></th>\n",
       "    </tr>\n",
       "  </thead>\n",
       "  <tbody>\n",
       "    <tr>\n",
       "      <th>Bahrain</th>\n",
       "      <td>50543</td>\n",
       "      <td>Sinopharm</td>\n",
       "      <td>Q398</td>\n",
       "      <td>both</td>\n",
       "    </tr>\n",
       "    <tr>\n",
       "      <th>Canada</th>\n",
       "      <td>43525</td>\n",
       "      <td>Pfizer/BioNTech</td>\n",
       "      <td>Q16</td>\n",
       "      <td>both</td>\n",
       "    </tr>\n",
       "    <tr>\n",
       "      <th>China</th>\n",
       "      <td>1000000</td>\n",
       "      <td>CNBG, Sinovac</td>\n",
       "      <td>Q148</td>\n",
       "      <td>both</td>\n",
       "    </tr>\n",
       "    <tr>\n",
       "      <th>Israel</th>\n",
       "      <td>208600</td>\n",
       "      <td>Pfizer/BioNTech</td>\n",
       "      <td>Q801</td>\n",
       "      <td>both</td>\n",
       "    </tr>\n",
       "    <tr>\n",
       "      <th>Russia</th>\n",
       "      <td>200000</td>\n",
       "      <td>Sputnik V</td>\n",
       "      <td>Q159</td>\n",
       "      <td>both</td>\n",
       "    </tr>\n",
       "    <tr>\n",
       "      <th>United Kingdom</th>\n",
       "      <td>800000</td>\n",
       "      <td>Pfizer/BioNTech</td>\n",
       "      <td>Q145</td>\n",
       "      <td>both</td>\n",
       "    </tr>\n",
       "    <tr>\n",
       "      <th>United States</th>\n",
       "      <td>1008025</td>\n",
       "      <td>Moderna, Pfizer/BioNTech</td>\n",
       "      <td>Q30</td>\n",
       "      <td>both</td>\n",
       "    </tr>\n",
       "  </tbody>\n",
       "</table>\n",
       "</div>"
      ],
      "text/plain": [
       "                total_vaccinations                   vaccine    WD _merge\n",
       "location                                                                 \n",
       "Bahrain                      50543                 Sinopharm  Q398   both\n",
       "Canada                       43525           Pfizer/BioNTech   Q16   both\n",
       "China                      1000000             CNBG, Sinovac  Q148   both\n",
       "Israel                      208600           Pfizer/BioNTech  Q801   both\n",
       "Russia                      200000                 Sputnik V  Q159   both\n",
       "United Kingdom              800000           Pfizer/BioNTech  Q145   both\n",
       "United States              1008025  Moderna, Pfizer/BioNTech   Q30   both"
      ]
     },
     "execution_count": 17,
     "metadata": {},
     "output_type": "execute_result"
    }
   ],
   "source": [
    "plotCountriesPopulation = pd.merge(plotCountries, reconciliationCountries,how='outer', left_index=True, right_index=True,indicator=True)   \n",
    "plotCountriesPopulation"
   ]
  },
  {
   "cell_type": "code",
   "execution_count": 18,
   "metadata": {},
   "outputs": [],
   "source": [
    "#Missing\n",
    "#WDmissing = plotCountriesPopulation[plotCountriesPopulation[\"_merge\"] == \"left_only\"].copy()\n",
    "#WDmissing\n",
    "del plotCountriesPopulation['_merge']"
   ]
  },
  {
   "cell_type": "code",
   "execution_count": 19,
   "metadata": {},
   "outputs": [
    {
     "data": {
      "text/html": [
       "<div>\n",
       "<style scoped>\n",
       "    .dataframe tbody tr th:only-of-type {\n",
       "        vertical-align: middle;\n",
       "    }\n",
       "\n",
       "    .dataframe tbody tr th {\n",
       "        vertical-align: top;\n",
       "    }\n",
       "\n",
       "    .dataframe thead th {\n",
       "        text-align: right;\n",
       "    }\n",
       "</style>\n",
       "<table border=\"1\" class=\"dataframe\">\n",
       "  <thead>\n",
       "    <tr style=\"text-align: right;\">\n",
       "      <th></th>\n",
       "      <th>country</th>\n",
       "      <th>qid</th>\n",
       "      <th>countryLabel</th>\n",
       "      <th>population</th>\n",
       "      <th>ISO3166_1</th>\n",
       "      <th>nominalGDPperCapita</th>\n",
       "      <th>PPP_GDP_per_capita</th>\n",
       "      <th>Human_Development_Index</th>\n",
       "    </tr>\n",
       "  </thead>\n",
       "  <tbody>\n",
       "    <tr>\n",
       "      <th>11</th>\n",
       "      <td>http://www.wikidata.org/entity/Q924</td>\n",
       "      <td>Q924</td>\n",
       "      <td>Tanzania</td>\n",
       "      <td>57310019</td>\n",
       "      <td>TZA</td>\n",
       "      <td>958</td>\n",
       "      <td>2947.8</td>\n",
       "      <td>0.538</td>\n",
       "    </tr>\n",
       "    <tr>\n",
       "      <th>146</th>\n",
       "      <td>http://www.wikidata.org/entity/Q212</td>\n",
       "      <td>Q212</td>\n",
       "      <td>Ukraine</td>\n",
       "      <td>42558328</td>\n",
       "      <td>UKR</td>\n",
       "      <td>2639</td>\n",
       "      <td>8698.653</td>\n",
       "      <td>0.747</td>\n",
       "    </tr>\n",
       "    <tr>\n",
       "      <th>171</th>\n",
       "      <td>http://www.wikidata.org/entity/Q334</td>\n",
       "      <td>Q334</td>\n",
       "      <td>Singapore</td>\n",
       "      <td>5888926</td>\n",
       "      <td>SGP</td>\n",
       "      <td>57714</td>\n",
       "      <td>94104.704</td>\n",
       "      <td>0.932</td>\n",
       "    </tr>\n",
       "    <tr>\n",
       "      <th>21</th>\n",
       "      <td>http://www.wikidata.org/entity/Q17</td>\n",
       "      <td>Q17</td>\n",
       "      <td>Japan</td>\n",
       "      <td>126248424</td>\n",
       "      <td>JPN</td>\n",
       "      <td>38430</td>\n",
       "      <td>42066.576</td>\n",
       "      <td>0.909</td>\n",
       "    </tr>\n",
       "    <tr>\n",
       "      <th>154</th>\n",
       "      <td>http://www.wikidata.org/entity/Q754</td>\n",
       "      <td>Q754</td>\n",
       "      <td>Trinidad and Tobago</td>\n",
       "      <td>1369125</td>\n",
       "      <td>TTO</td>\n",
       "      <td>16126</td>\n",
       "      <td>31644.685</td>\n",
       "      <td>0.784</td>\n",
       "    </tr>\n",
       "  </tbody>\n",
       "</table>\n",
       "</div>"
      ],
      "text/plain": [
       "                                 country   qid  ... PPP_GDP_per_capita Human_Development_Index\n",
       "11   http://www.wikidata.org/entity/Q924  Q924  ...             2947.8                   0.538\n",
       "146  http://www.wikidata.org/entity/Q212  Q212  ...           8698.653                   0.747\n",
       "171  http://www.wikidata.org/entity/Q334  Q334  ...          94104.704                   0.932\n",
       "21    http://www.wikidata.org/entity/Q17   Q17  ...          42066.576                   0.909\n",
       "154  http://www.wikidata.org/entity/Q754  Q754  ...          31644.685                   0.784\n",
       "\n",
       "[5 rows x 8 columns]"
      ]
     },
     "execution_count": 19,
     "metadata": {},
     "output_type": "execute_result"
    }
   ],
   "source": [
    "WDpopulation.sample(5)"
   ]
  },
  {
   "cell_type": "code",
   "execution_count": 20,
   "metadata": {},
   "outputs": [],
   "source": [
    "CountriesData = pd.merge(plotCountriesPopulation, WDpopulation,how='inner', left_on='WD', right_on='qid',indicator=True)   \n"
   ]
  },
  {
   "cell_type": "code",
   "execution_count": 21,
   "metadata": {},
   "outputs": [
    {
     "name": "stdout",
     "output_type": "stream",
     "text": [
      "<class 'pandas.core.frame.DataFrame'>\n",
      "Int64Index: 7 entries, 0 to 6\n",
      "Data columns (total 12 columns):\n",
      " #   Column                   Non-Null Count  Dtype   \n",
      "---  ------                   --------------  -----   \n",
      " 0   total_vaccinations       7 non-null      int64   \n",
      " 1   vaccine                  7 non-null      object  \n",
      " 2   WD                       7 non-null      object  \n",
      " 3   country                  7 non-null      object  \n",
      " 4   qid                      7 non-null      object  \n",
      " 5   countryLabel             7 non-null      object  \n",
      " 6   population               7 non-null      int64   \n",
      " 7   ISO3166_1                7 non-null      object  \n",
      " 8   nominalGDPperCapita      7 non-null      int64   \n",
      " 9   PPP_GDP_per_capita       7 non-null      float64 \n",
      " 10  Human_Development_Index  7 non-null      float64 \n",
      " 11  _merge                   7 non-null      category\n",
      "dtypes: category(1), float64(2), int64(3), object(6)\n",
      "memory usage: 783.0+ bytes\n"
     ]
    }
   ],
   "source": [
    "#del CountriesData['country']\n",
    "#del CountriesData['qid']\n",
    "#del CountriesData['_merge']\n",
    "\n",
    "CountriesData['population'] = CountriesData['population'].astype(int)\n",
    "CountriesData['nominalGDPperCapita'] = CountriesData['nominalGDPperCapita'].astype(int)\n",
    "CountriesData['PPP_GDP_per_capita'] = CountriesData['PPP_GDP_per_capita'].astype(float)\n",
    "CountriesData['Human_Development_Index'] = CountriesData['Human_Development_Index'].astype(float)\n",
    "\n",
    "CountriesData.info()"
   ]
  },
  {
   "cell_type": "code",
   "execution_count": 22,
   "metadata": {},
   "outputs": [],
   "source": [
    "CountriesData[\"vaccinations_population_percent\"] = CountriesData[\"total_vaccinations\"]/CountriesData[\"population\"] * 100\n"
   ]
  },
  {
   "cell_type": "code",
   "execution_count": 23,
   "metadata": {},
   "outputs": [
    {
     "data": {
      "text/html": [
       "<div>\n",
       "<style scoped>\n",
       "    .dataframe tbody tr th:only-of-type {\n",
       "        vertical-align: middle;\n",
       "    }\n",
       "\n",
       "    .dataframe tbody tr th {\n",
       "        vertical-align: top;\n",
       "    }\n",
       "\n",
       "    .dataframe thead th {\n",
       "        text-align: right;\n",
       "    }\n",
       "</style>\n",
       "<table border=\"1\" class=\"dataframe\">\n",
       "  <thead>\n",
       "    <tr style=\"text-align: right;\">\n",
       "      <th></th>\n",
       "      <th>total_vaccinations</th>\n",
       "      <th>vaccine</th>\n",
       "      <th>WD</th>\n",
       "      <th>country</th>\n",
       "      <th>qid</th>\n",
       "      <th>countryLabel</th>\n",
       "      <th>population</th>\n",
       "      <th>ISO3166_1</th>\n",
       "      <th>nominalGDPperCapita</th>\n",
       "      <th>PPP_GDP_per_capita</th>\n",
       "      <th>Human_Development_Index</th>\n",
       "      <th>_merge</th>\n",
       "      <th>vaccinations_population_percent</th>\n",
       "    </tr>\n",
       "  </thead>\n",
       "  <tbody>\n",
       "    <tr>\n",
       "      <th>0</th>\n",
       "      <td>50543</td>\n",
       "      <td>Sinopharm</td>\n",
       "      <td>Q398</td>\n",
       "      <td>http://www.wikidata.org/entity/Q398</td>\n",
       "      <td>Q398</td>\n",
       "      <td>Bahrain</td>\n",
       "      <td>1492584</td>\n",
       "      <td>BHR</td>\n",
       "      <td>23739</td>\n",
       "      <td>47708.055</td>\n",
       "      <td>0.824</td>\n",
       "      <td>both</td>\n",
       "      <td>3.386275</td>\n",
       "    </tr>\n",
       "    <tr>\n",
       "      <th>1</th>\n",
       "      <td>43525</td>\n",
       "      <td>Pfizer/BioNTech</td>\n",
       "      <td>Q16</td>\n",
       "      <td>http://www.wikidata.org/entity/Q16</td>\n",
       "      <td>Q16</td>\n",
       "      <td>Canada</td>\n",
       "      <td>37894799</td>\n",
       "      <td>CAN</td>\n",
       "      <td>44870</td>\n",
       "      <td>46509.717</td>\n",
       "      <td>0.926</td>\n",
       "      <td>both</td>\n",
       "      <td>0.114857</td>\n",
       "    </tr>\n",
       "    <tr>\n",
       "      <th>2</th>\n",
       "      <td>1000000</td>\n",
       "      <td>CNBG, Sinovac</td>\n",
       "      <td>Q148</td>\n",
       "      <td>http://www.wikidata.org/entity/Q148</td>\n",
       "      <td>Q148</td>\n",
       "      <td>People's Republic of China</td>\n",
       "      <td>1409517397</td>\n",
       "      <td>CHN</td>\n",
       "      <td>8826</td>\n",
       "      <td>16842.408</td>\n",
       "      <td>0.752</td>\n",
       "      <td>both</td>\n",
       "      <td>0.070946</td>\n",
       "    </tr>\n",
       "    <tr>\n",
       "      <th>3</th>\n",
       "      <td>208600</td>\n",
       "      <td>Pfizer/BioNTech</td>\n",
       "      <td>Q801</td>\n",
       "      <td>http://www.wikidata.org/entity/Q801</td>\n",
       "      <td>Q801</td>\n",
       "      <td>Israel</td>\n",
       "      <td>9093000</td>\n",
       "      <td>ISR</td>\n",
       "      <td>40543</td>\n",
       "      <td>38867.762</td>\n",
       "      <td>0.899</td>\n",
       "      <td>both</td>\n",
       "      <td>2.294072</td>\n",
       "    </tr>\n",
       "    <tr>\n",
       "      <th>4</th>\n",
       "      <td>200000</td>\n",
       "      <td>Sputnik V</td>\n",
       "      <td>Q159</td>\n",
       "      <td>http://www.wikidata.org/entity/Q159</td>\n",
       "      <td>Q159</td>\n",
       "      <td>Russia</td>\n",
       "      <td>146804372</td>\n",
       "      <td>RUS</td>\n",
       "      <td>10749</td>\n",
       "      <td>25763.259</td>\n",
       "      <td>0.816</td>\n",
       "      <td>both</td>\n",
       "      <td>0.136236</td>\n",
       "    </tr>\n",
       "    <tr>\n",
       "      <th>5</th>\n",
       "      <td>800000</td>\n",
       "      <td>Pfizer/BioNTech</td>\n",
       "      <td>Q145</td>\n",
       "      <td>http://www.wikidata.org/entity/Q145</td>\n",
       "      <td>Q145</td>\n",
       "      <td>United Kingdom</td>\n",
       "      <td>66022273</td>\n",
       "      <td>GBR</td>\n",
       "      <td>39953</td>\n",
       "      <td>44920.452</td>\n",
       "      <td>0.922</td>\n",
       "      <td>both</td>\n",
       "      <td>1.211712</td>\n",
       "    </tr>\n",
       "    <tr>\n",
       "      <th>6</th>\n",
       "      <td>1008025</td>\n",
       "      <td>Moderna, Pfizer/BioNTech</td>\n",
       "      <td>Q30</td>\n",
       "      <td>http://www.wikidata.org/entity/Q30</td>\n",
       "      <td>Q30</td>\n",
       "      <td>United States of America</td>\n",
       "      <td>328239523</td>\n",
       "      <td>USA</td>\n",
       "      <td>59927</td>\n",
       "      <td>59927.930</td>\n",
       "      <td>0.920</td>\n",
       "      <td>both</td>\n",
       "      <td>0.307100</td>\n",
       "    </tr>\n",
       "  </tbody>\n",
       "</table>\n",
       "</div>"
      ],
      "text/plain": [
       "   total_vaccinations                   vaccine    WD  ... Human_Development_Index _merge vaccinations_population_percent\n",
       "0               50543                 Sinopharm  Q398  ...                   0.824   both                        3.386275\n",
       "1               43525           Pfizer/BioNTech   Q16  ...                   0.926   both                        0.114857\n",
       "2             1000000             CNBG, Sinovac  Q148  ...                   0.752   both                        0.070946\n",
       "3              208600           Pfizer/BioNTech  Q801  ...                   0.899   both                        2.294072\n",
       "4              200000                 Sputnik V  Q159  ...                   0.816   both                        0.136236\n",
       "5              800000           Pfizer/BioNTech  Q145  ...                   0.922   both                        1.211712\n",
       "6             1008025  Moderna, Pfizer/BioNTech   Q30  ...                   0.920   both                        0.307100\n",
       "\n",
       "[7 rows x 13 columns]"
      ]
     },
     "execution_count": 23,
     "metadata": {},
     "output_type": "execute_result"
    }
   ],
   "source": [
    "CountriesData"
   ]
  },
  {
   "cell_type": "code",
   "execution_count": 24,
   "metadata": {},
   "outputs": [
    {
     "data": {
      "image/png": "[encoded data removed]",
      "text/plain": [
       "<Figure size 1080x360 with 1 Axes>"
      ]
     },
     "metadata": {
      "needs_background": "light"
     },
     "output_type": "display_data"
    }
   ],
   "source": [
    "CountriesData = CountriesData.sort_values(by=['vaccinations_population_percent'],ascending=False)\n",
    "CountriesData = CountriesData.set_index('countryLabel')\n",
    "\n",
    "CountriesData[\"vaccinations_population_percent\"].plot( y='countryLabel',kind = 'bar',figsize=(15,5)) \n",
    "plt.title(\"Vaccination per population % - \" + start_time.strftime('%Y %m %d'))\n",
    "plt.savefig('Corona_VaccinationperCountryPopulation.png') \n",
    "plt.show() "
   ]
  },
  {
   "cell_type": "code",
   "execution_count": null,
   "metadata": {},
   "outputs": [],
   "source": []
  }
 ],
 "metadata": {
  "kernelspec": {
   "display_name": "Python 3",
   "language": "python",
   "name": "python3"
  },
  "language_info": {
   "codemirror_mode": {
    "name": "ipython",
    "version": 3
   },
   "file_extension": ".py",
   "mimetype": "text/x-python",
   "name": "python",
   "nbconvert_exporter": "python",
   "pygments_lexer": "ipython3",
   "version": "3.8.0"
  }
 },
 "nbformat": 4,
 "nbformat_minor": 4
}
