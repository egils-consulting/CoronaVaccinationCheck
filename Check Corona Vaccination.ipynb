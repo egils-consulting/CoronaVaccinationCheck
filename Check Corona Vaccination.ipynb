{
 "cells": [
  {
   "cell_type": "markdown",
   "metadata": {},
   "source": [
    "### Check Corona Vaccinations \n",
    "version 0.303\n",
    "\n",
    "* [this Notebook](https://github.com/salgo60/CoronaVaccinationCheck/blob/master/Check%20Corona%20Vaccination.ipynb) / [repository](https://github.com/salgo60/CoronaVaccinationCheck) \n",
    "\n",
    "* read the data on [github.com/owid/covid-19-data...vaccinations/country_data](https://github.com/owid/covid-19-data/tree/master/public/data/vaccinations/country_data)\n",
    "  * Data is reported cummulated for United Kingdom but also subnational data England, Scotland, Northern Ireland, Wales see [issue 228](https://github.com/owid/covid-19-data/issues/228)\n",
    "     * subnational data have been published quite irregularly so far ==> we filter them out"
   ]
  },
  {
   "cell_type": "code",
   "execution_count": 1,
   "metadata": {},
   "outputs": [
    {
     "name": "stdout",
     "output_type": "stream",
     "text": [
      "Last run:  2020-12-27 10:45:33.284688\n"
     ]
    }
   ],
   "source": [
    "from datetime import datetime\n",
    "start_time  = datetime.now()\n",
    "print(\"Last run: \", start_time)"
   ]
  },
  {
   "cell_type": "code",
   "execution_count": 2,
   "metadata": {},
   "outputs": [],
   "source": [
    "import pandas as pd\n",
    "GITHUB_directory = \"https://api.github.com/repos/owid/covid-19-data/contents/public/data/vaccinations/country_data\"  \n",
    "countries = pd.read_json(GITHUB_directory)  \n",
    "listcountries = []\n",
    "for index,row in countries.iterrows():\n",
    "    df = pd.read_csv(row[\"download_url\"])\n",
    "    listcountries.append(df)\n",
    "    \n",
    "allCountries = pd.concat(listcountries, axis=0, ignore_index=True)    "
   ]
  },
  {
   "cell_type": "code",
   "execution_count": 3,
   "metadata": {},
   "outputs": [
    {
     "data": {
      "text/html": [
       "<div>\n",
       "<style scoped>\n",
       "    .dataframe tbody tr th:only-of-type {\n",
       "        vertical-align: middle;\n",
       "    }\n",
       "\n",
       "    .dataframe tbody tr th {\n",
       "        vertical-align: top;\n",
       "    }\n",
       "\n",
       "    .dataframe thead th {\n",
       "        text-align: right;\n",
       "    }\n",
       "</style>\n",
       "<table border=\"1\" class=\"dataframe\">\n",
       "  <thead>\n",
       "    <tr style=\"text-align: right;\">\n",
       "      <th></th>\n",
       "      <th>location</th>\n",
       "      <th>date</th>\n",
       "      <th>vaccine</th>\n",
       "      <th>total_vaccinations</th>\n",
       "      <th>source_url</th>\n",
       "    </tr>\n",
       "  </thead>\n",
       "  <tbody>\n",
       "    <tr>\n",
       "      <th>3</th>\n",
       "      <td>Bahrain</td>\n",
       "      <td>2020-12-26</td>\n",
       "      <td>Sinopharm</td>\n",
       "      <td>51556</td>\n",
       "      <td>https://twitter.com/MOH_Bahrain/status/1342912...</td>\n",
       "    </tr>\n",
       "    <tr>\n",
       "      <th>36</th>\n",
       "      <td>United States</td>\n",
       "      <td>2020-12-26</td>\n",
       "      <td>Moderna, Pfizer/BioNTech</td>\n",
       "      <td>1944585</td>\n",
       "      <td>https://covid.cdc.gov/covid-data-tracker/#vacc...</td>\n",
       "    </tr>\n",
       "    <tr>\n",
       "      <th>2</th>\n",
       "      <td>Bahrain</td>\n",
       "      <td>2020-12-25</td>\n",
       "      <td>Sinopharm</td>\n",
       "      <td>50543</td>\n",
       "      <td>https://twitter.com/MOH_Bahrain/status/1342560...</td>\n",
       "    </tr>\n",
       "    <tr>\n",
       "      <th>16</th>\n",
       "      <td>Chile</td>\n",
       "      <td>2020-12-25</td>\n",
       "      <td>Pfizer/BioNTech</td>\n",
       "      <td>5090</td>\n",
       "      <td>https://twitter.com/ministeriosalud/status/134...</td>\n",
       "    </tr>\n",
       "    <tr>\n",
       "      <th>31</th>\n",
       "      <td>Russia</td>\n",
       "      <td>2020-12-25</td>\n",
       "      <td>Sputnik V</td>\n",
       "      <td>700000</td>\n",
       "      <td>https://tass.com/world/1240003</td>\n",
       "    </tr>\n",
       "    <tr>\n",
       "      <th>25</th>\n",
       "      <td>Mexico</td>\n",
       "      <td>2020-12-24</td>\n",
       "      <td>Pfizer/BioNTech</td>\n",
       "      <td>2924</td>\n",
       "      <td>https://www.gob.mx/salud/prensa/267-la-vacuna-...</td>\n",
       "    </tr>\n",
       "    <tr>\n",
       "      <th>24</th>\n",
       "      <td>Israel</td>\n",
       "      <td>2020-12-24</td>\n",
       "      <td>Pfizer/BioNTech</td>\n",
       "      <td>208600</td>\n",
       "      <td>https://www.gov.il/he/departments/news/2512202...</td>\n",
       "    </tr>\n",
       "    <tr>\n",
       "      <th>15</th>\n",
       "      <td>Chile</td>\n",
       "      <td>2020-12-24</td>\n",
       "      <td>Pfizer/BioNTech</td>\n",
       "      <td>420</td>\n",
       "      <td>https://deis.minsal.cl/</td>\n",
       "    </tr>\n",
       "    <tr>\n",
       "      <th>14</th>\n",
       "      <td>Canada</td>\n",
       "      <td>2020-12-24</td>\n",
       "      <td>Pfizer/BioNTech</td>\n",
       "      <td>43525</td>\n",
       "      <td>https://github.com/ishaberry/Covid19Canada/blo...</td>\n",
       "    </tr>\n",
       "    <tr>\n",
       "      <th>18</th>\n",
       "      <td>Costa Rica</td>\n",
       "      <td>2020-12-24</td>\n",
       "      <td>Pfizer/BioNTech</td>\n",
       "      <td>55</td>\n",
       "      <td>https://www.presidencia.go.cr/comunicados/2020...</td>\n",
       "    </tr>\n",
       "    <tr>\n",
       "      <th>1</th>\n",
       "      <td>Bahrain</td>\n",
       "      <td>2020-12-24</td>\n",
       "      <td>Sinopharm</td>\n",
       "      <td>50071</td>\n",
       "      <td>https://twitter.com/MOH_Bahrain/status/1342189...</td>\n",
       "    </tr>\n",
       "    <tr>\n",
       "      <th>35</th>\n",
       "      <td>United Kingdom</td>\n",
       "      <td>2020-12-24</td>\n",
       "      <td>Pfizer/BioNTech</td>\n",
       "      <td>800000</td>\n",
       "      <td>https://www.gov.uk/government/speeches/prime-m...</td>\n",
       "    </tr>\n",
       "    <tr>\n",
       "      <th>23</th>\n",
       "      <td>Israel</td>\n",
       "      <td>2020-12-23</td>\n",
       "      <td>Pfizer/BioNTech</td>\n",
       "      <td>134500</td>\n",
       "      <td>https://www.gov.il/he/departments/news/2512202...</td>\n",
       "    </tr>\n",
       "    <tr>\n",
       "      <th>13</th>\n",
       "      <td>Canada</td>\n",
       "      <td>2020-12-23</td>\n",
       "      <td>Pfizer/BioNTech</td>\n",
       "      <td>35204</td>\n",
       "      <td>https://github.com/ishaberry/Covid19Canada/blo...</td>\n",
       "    </tr>\n",
       "    <tr>\n",
       "      <th>37</th>\n",
       "      <td>United States</td>\n",
       "      <td>2020-12-23</td>\n",
       "      <td>Moderna, Pfizer/BioNTech</td>\n",
       "      <td>1008025</td>\n",
       "      <td>https://covid.cdc.gov/covid-data-tracker/#vacc...</td>\n",
       "    </tr>\n",
       "  </tbody>\n",
       "</table>\n",
       "</div>"
      ],
      "text/plain": [
       "          location  ...                                         source_url\n",
       "3          Bahrain  ...  https://twitter.com/MOH_Bahrain/status/1342912...\n",
       "36   United States  ...  https://covid.cdc.gov/covid-data-tracker/#vacc...\n",
       "2          Bahrain  ...  https://twitter.com/MOH_Bahrain/status/1342560...\n",
       "16           Chile  ...  https://twitter.com/ministeriosalud/status/134...\n",
       "31          Russia  ...                     https://tass.com/world/1240003\n",
       "25          Mexico  ...  https://www.gob.mx/salud/prensa/267-la-vacuna-...\n",
       "24          Israel  ...  https://www.gov.il/he/departments/news/2512202...\n",
       "15           Chile  ...                            https://deis.minsal.cl/\n",
       "14          Canada  ...  https://github.com/ishaberry/Covid19Canada/blo...\n",
       "18      Costa Rica  ...  https://www.presidencia.go.cr/comunicados/2020...\n",
       "1          Bahrain  ...  https://twitter.com/MOH_Bahrain/status/1342189...\n",
       "35  United Kingdom  ...  https://www.gov.uk/government/speeches/prime-m...\n",
       "23          Israel  ...  https://www.gov.il/he/departments/news/2512202...\n",
       "13          Canada  ...  https://github.com/ishaberry/Covid19Canada/blo...\n",
       "37   United States  ...  https://covid.cdc.gov/covid-data-tracker/#vacc...\n",
       "\n",
       "[15 rows x 5 columns]"
      ]
     },
     "execution_count": 3,
     "metadata": {},
     "output_type": "execute_result"
    }
   ],
   "source": [
    "# Show 15 latest sorted by dates\n",
    "allCountries.sort_values(by=['date'],ascending=False)[0:15]"
   ]
  },
  {
   "cell_type": "code",
   "execution_count": 4,
   "metadata": {},
   "outputs": [
    {
     "data": {
      "text/plain": [
       "Canada              11\n",
       "Israel               5\n",
       "United States        5\n",
       "Bahrain              4\n",
       "Russia               4\n",
       "Northern Ireland     2\n",
       "Wales                2\n",
       "Chile                2\n",
       "United Kingdom       2\n",
       "Scotland             2\n",
       "Mexico               1\n",
       "England              1\n",
       "Costa Rica           1\n",
       "China                1\n",
       "Name: location, dtype: int64"
      ]
     },
     "execution_count": 4,
     "metadata": {},
     "output_type": "execute_result"
    }
   ],
   "source": [
    "#Countries in list\n",
    "allCountries[\"location\"].value_counts()"
   ]
  },
  {
   "cell_type": "code",
   "execution_count": 5,
   "metadata": {},
   "outputs": [
    {
     "data": {
      "text/plain": [
       "location          vaccine                 \n",
       "Bahrain           Sinopharm                    4\n",
       "Canada            Pfizer/BioNTech             11\n",
       "Chile             Pfizer/BioNTech              2\n",
       "China             CNBG, Sinovac                1\n",
       "Costa Rica        Pfizer/BioNTech              1\n",
       "England           Pfizer/BioNTech              1\n",
       "Israel            Pfizer/BioNTech              5\n",
       "Mexico            Pfizer/BioNTech              1\n",
       "Northern Ireland  Pfizer/BioNTech              2\n",
       "Russia            Sputnik V                    4\n",
       "Scotland          Pfizer/BioNTech              2\n",
       "United Kingdom    Pfizer/BioNTech              2\n",
       "United States     Moderna, Pfizer/BioNTech     2\n",
       "                  Pfizer/BioNTech              3\n",
       "Wales             Pfizer/BioNTech              2\n",
       "dtype: int64"
      ]
     },
     "execution_count": 5,
     "metadata": {},
     "output_type": "execute_result"
    }
   ],
   "source": [
    "allCountries.groupby([\"location\", \"vaccine\"]).size()"
   ]
  },
  {
   "cell_type": "code",
   "execution_count": 6,
   "metadata": {},
   "outputs": [
    {
     "name": "stdout",
     "output_type": "stream",
     "text": [
      "<class 'pandas.core.frame.DataFrame'>\n",
      "Int64Index: 36 entries, 0 to 40\n",
      "Data columns (total 5 columns):\n",
      " #   Column              Non-Null Count  Dtype         \n",
      "---  ------              --------------  -----         \n",
      " 0   location            36 non-null     object        \n",
      " 1   date                36 non-null     datetime64[ns]\n",
      " 2   vaccine             36 non-null     object        \n",
      " 3   total_vaccinations  36 non-null     int64         \n",
      " 4   source_url          36 non-null     object        \n",
      "dtypes: datetime64[ns](1), int64(1), object(3)\n",
      "memory usage: 1.7+ KB\n"
     ]
    }
   ],
   "source": [
    "allCountries['date'] = allCountries['date'].astype('datetime64[ns]')   \n",
    "\n",
    "# Filter away Wales , England, Scotland see above and [issue 228](https://github.com/owid/covid-19-data/issues/228)\n",
    "list_of_countries_to_delete = [\"England\",\"Northern Ireland\",\"Scotland\",\"Wales\"]\n",
    "\n",
    "allCountriesFiltered = allCountries[~allCountries[\"location\"].isin(list_of_countries_to_delete)]\n",
    "allCountriesFiltered.info()\n",
    "\n"
   ]
  },
  {
   "cell_type": "code",
   "execution_count": 7,
   "metadata": {},
   "outputs": [
    {
     "data": {
      "image/png": "[encoded data removed]",
      "text/plain": [
       "<Figure size 432x288 with 1 Axes>"
      ]
     },
     "metadata": {},
     "output_type": "display_data"
    }
   ],
   "source": [
    "#Countries\n",
    "%matplotlib inline    \n",
    "import matplotlib.pyplot as plt   \n",
    "\n",
    "#Reported numbers are accumulated --> get latest\n",
    "plotCountries = allCountriesFiltered.sort_values(by=['date'],ascending=False) \\\n",
    "    [['total_vaccinations','location','vaccine']].groupby('location').apply(lambda x: x.head(1))\n",
    "plotCountries = plotCountries.set_index('location')\n",
    "plotCountries[\"total_vaccinations\"].plot( y='location',kind = 'pie') \n",
    "plt.title(\"Vaccination per countries - \" + start_time.strftime('%Y %m %d'))\n",
    "plt.savefig('Corona_VaccinationperCountry.png')  \n",
    "plt.show() \n"
   ]
  },
  {
   "cell_type": "code",
   "execution_count": 8,
   "metadata": {},
   "outputs": [
    {
     "data": {
      "text/html": [
       "<div>\n",
       "<style scoped>\n",
       "    .dataframe tbody tr th:only-of-type {\n",
       "        vertical-align: middle;\n",
       "    }\n",
       "\n",
       "    .dataframe tbody tr th {\n",
       "        vertical-align: top;\n",
       "    }\n",
       "\n",
       "    .dataframe thead th {\n",
       "        text-align: right;\n",
       "    }\n",
       "</style>\n",
       "<table border=\"1\" class=\"dataframe\">\n",
       "  <thead>\n",
       "    <tr style=\"text-align: right;\">\n",
       "      <th></th>\n",
       "      <th>total_vaccinations</th>\n",
       "      <th>vaccine</th>\n",
       "    </tr>\n",
       "    <tr>\n",
       "      <th>location</th>\n",
       "      <th></th>\n",
       "      <th></th>\n",
       "    </tr>\n",
       "  </thead>\n",
       "  <tbody>\n",
       "    <tr>\n",
       "      <th>Costa Rica</th>\n",
       "      <td>55</td>\n",
       "      <td>Pfizer/BioNTech</td>\n",
       "    </tr>\n",
       "    <tr>\n",
       "      <th>Mexico</th>\n",
       "      <td>2924</td>\n",
       "      <td>Pfizer/BioNTech</td>\n",
       "    </tr>\n",
       "    <tr>\n",
       "      <th>Chile</th>\n",
       "      <td>5090</td>\n",
       "      <td>Pfizer/BioNTech</td>\n",
       "    </tr>\n",
       "    <tr>\n",
       "      <th>Canada</th>\n",
       "      <td>43525</td>\n",
       "      <td>Pfizer/BioNTech</td>\n",
       "    </tr>\n",
       "    <tr>\n",
       "      <th>Bahrain</th>\n",
       "      <td>51556</td>\n",
       "      <td>Sinopharm</td>\n",
       "    </tr>\n",
       "    <tr>\n",
       "      <th>Israel</th>\n",
       "      <td>208600</td>\n",
       "      <td>Pfizer/BioNTech</td>\n",
       "    </tr>\n",
       "    <tr>\n",
       "      <th>Russia</th>\n",
       "      <td>700000</td>\n",
       "      <td>Sputnik V</td>\n",
       "    </tr>\n",
       "    <tr>\n",
       "      <th>United Kingdom</th>\n",
       "      <td>800000</td>\n",
       "      <td>Pfizer/BioNTech</td>\n",
       "    </tr>\n",
       "    <tr>\n",
       "      <th>China</th>\n",
       "      <td>1000000</td>\n",
       "      <td>CNBG, Sinovac</td>\n",
       "    </tr>\n",
       "    <tr>\n",
       "      <th>United States</th>\n",
       "      <td>1944585</td>\n",
       "      <td>Moderna, Pfizer/BioNTech</td>\n",
       "    </tr>\n",
       "  </tbody>\n",
       "</table>\n",
       "</div>"
      ],
      "text/plain": [
       "                total_vaccinations                   vaccine\n",
       "location                                                    \n",
       "Costa Rica                      55           Pfizer/BioNTech\n",
       "Mexico                        2924           Pfizer/BioNTech\n",
       "Chile                         5090           Pfizer/BioNTech\n",
       "Canada                       43525           Pfizer/BioNTech\n",
       "Bahrain                      51556                 Sinopharm\n",
       "Israel                      208600           Pfizer/BioNTech\n",
       "Russia                      700000                 Sputnik V\n",
       "United Kingdom              800000           Pfizer/BioNTech\n",
       "China                      1000000             CNBG, Sinovac\n",
       "United States              1944585  Moderna, Pfizer/BioNTech"
      ]
     },
     "execution_count": 8,
     "metadata": {},
     "output_type": "execute_result"
    }
   ],
   "source": [
    "plotCountries.sort_values(by='total_vaccinations',ascending=True)"
   ]
  },
  {
   "cell_type": "code",
   "execution_count": 9,
   "metadata": {},
   "outputs": [
    {
     "data": {
      "text/plain": [
       "total_vaccinations                                              4756335\n",
       "vaccine               SinopharmPfizer/BioNTechPfizer/BioNTechCNBG, S...\n",
       "dtype: object"
      ]
     },
     "execution_count": 9,
     "metadata": {},
     "output_type": "execute_result"
    }
   ],
   "source": [
    "plotCountries.sum()"
   ]
  },
  {
   "cell_type": "code",
   "execution_count": 10,
   "metadata": {},
   "outputs": [
    {
     "data": {
      "image/png": "[encoded data removed]",
      "text/plain": [
       "<Figure size 432x288 with 1 Axes>"
      ]
     },
     "metadata": {},
     "output_type": "display_data"
    }
   ],
   "source": [
    "# Vaccine numbers\n",
    "plotVaccine = plotCountries.groupby('vaccine')['total_vaccinations'].sum()\n",
    "plotVaccine.plot( kind = 'pie') \n",
    "plt.title(\"Vaccination per Vaccine - \" + start_time.strftime('%Y %m %d'))\n",
    "plt.savefig('Corona_VaccinationperVaccine.png')  \n",
    "plt.show()"
   ]
  },
  {
   "cell_type": "code",
   "execution_count": 11,
   "metadata": {},
   "outputs": [
    {
     "data": {
      "text/plain": [
       "vaccine\n",
       "Sinopharm                     51556\n",
       "Sputnik V                    700000\n",
       "CNBG, Sinovac               1000000\n",
       "Pfizer/BioNTech             1060194\n",
       "Moderna, Pfizer/BioNTech    1944585\n",
       "Name: total_vaccinations, dtype: int64"
      ]
     },
     "execution_count": 11,
     "metadata": {},
     "output_type": "execute_result"
    }
   ],
   "source": [
    "plotVaccine.sort_values(ascending=True)"
   ]
  },
  {
   "cell_type": "code",
   "execution_count": 12,
   "metadata": {},
   "outputs": [],
   "source": [
    "# Sweden have 10 000 doses...."
   ]
  },
  {
   "cell_type": "code",
   "execution_count": 13,
   "metadata": {},
   "outputs": [
    {
     "name": "stdout",
     "output_type": "stream",
     "text": [
      "Ended:  2020-12-27 10:45:37.324668\n",
      "Time elapsed (hh:mm:ss.ms) 0:00:04.040145\n"
     ]
    }
   ],
   "source": [
    "end = datetime.now()\n",
    "print(\"Ended: \", end) \n",
    "print('Time elapsed (hh:mm:ss.ms) {}'.format(datetime.now() - start_time))"
   ]
  },
  {
   "cell_type": "markdown",
   "metadata": {},
   "source": [
    "### Whole dataset\n",
    "see \n",
    "* [COVID-19 Data Processing Pipelines and datasets](https://github.com/covid19-data/covid19-data)"
   ]
  },
  {
   "cell_type": "markdown",
   "metadata": {},
   "source": [
    "### Compare population\n",
    "* using data from Wikidata\n",
    "* \"translates\" the labels to Wikidata Qnumber see reconciliationCountries_dict "
   ]
  },
  {
   "cell_type": "code",
   "execution_count": 14,
   "metadata": {},
   "outputs": [],
   "source": [
    "reconciliationCountries_dict = {\n",
    "    \"Bahrain\" : \"Q398\", \"Belarus\" : \"Q184\",\"Canada\" : \"Q16\",    \"China\" : \"Q148\",\n",
    "    \"Chile\" : \"Q298\", \"Costa Rica\" : \"Q800\", \"Israel\" : \"Q801\", \"Mexico\" : \"Q96\",\n",
    "    \"France\" : \"Q142\",\"Germany\" : \"Q183\",\n",
    "    \"Russia\" : \"Q159\",\"United Kingdom\" : \"Q145\", \"United States\" : \"Q30\",\n",
    "    \"Hungary\": \"Q28\"}\n",
    "reconciliationCountries = pd.DataFrame.from_dict([reconciliationCountries_dict]).T\n",
    "reconciliationCountries.columns = [\"WD\"]\n",
    "reconciliationCountries.index.name = \"Country\""
   ]
  },
  {
   "cell_type": "code",
   "execution_count": 15,
   "metadata": {},
   "outputs": [
    {
     "name": "stdout",
     "output_type": "stream",
     "text": [
      "<class 'pandas.core.frame.DataFrame'>\n",
      "RangeIndex: 225 entries, 0 to 224\n",
      "Data columns (total 8 columns):\n",
      " #   Column                   Non-Null Count  Dtype \n",
      "---  ------                   --------------  ----- \n",
      " 0   country                  225 non-null    object\n",
      " 1   qid                      225 non-null    object\n",
      " 2   countryLabel             225 non-null    object\n",
      " 3   population               225 non-null    object\n",
      " 4   ISO3166_1                225 non-null    object\n",
      " 5   nominalGDPperCapita      221 non-null    object\n",
      " 6   PPP_GDP_per_capita       215 non-null    object\n",
      " 7   Human_Development_Index  216 non-null    object\n",
      "dtypes: object(8)\n",
      "memory usage: 14.2+ KB\n"
     ]
    }
   ],
   "source": [
    "import sys,json\n",
    "from SPARQLWrapper import SPARQLWrapper, JSON\n",
    "\n",
    "endpoint_url = \"https://query.wikidata.org/sparql\"\n",
    " \n",
    "# https://w.wiki/r$X\n",
    "queryWD = \"\"\"SELECT DISTINCT ?country (REPLACE(STR(?country), \".*Q\", \"Q\") AS ?qid) ?countryLabel ?population ?ISO3166_1 ?nominalGDPperCapita ?PPP_GDP_per_capita ?Human_Development_Index WHERE {\n",
    "  ?country wdt:P31 wd:Q3624078;\n",
    "    wdt:P1082 ?population.\n",
    "  OPTIONAL { ?country wdt:P298 ?ISO3166_1. }\n",
    "  OPTIONAL { ?country wdt:P2132 ?nominalGDPperCapita. }\n",
    "  OPTIONAL { ?country wdt:P2299 ?PPP_GDP_per_capita. }\n",
    "  OPTIONAL { ?country wdt:P1081 ?Human_Development_Index. }\n",
    "  SERVICE wikibase:label { bd:serviceParam wikibase:language \"en\". }\n",
    "}\n",
    "GROUP BY ?population ?countryLabel ?country ?ISO3166_1 ?nominalGDPperCapita ?PPP_GDP_per_capita ?Human_Development_Index\"\"\"\n",
    "\n",
    "\n",
    "def get_sparql_dataframe(endpoint_url, query):\n",
    "    \"\"\"\n",
    "    Helper function to convert SPARQL results into a Pandas data frame.\n",
    "    \"\"\"\n",
    "    user_agent = \"salgo60/%s.%s\" % (sys.version_info[0], sys.version_info[1])\n",
    " \n",
    "    sparql = SPARQLWrapper(endpoint_url, agent=user_agent)\n",
    "    sparql.setQuery(query)\n",
    "    sparql.setReturnFormat(JSON)\n",
    "    result = sparql.query()\n",
    "\n",
    "    processed_results = json.load(result.response)\n",
    "    cols = processed_results['head']['vars']\n",
    "\n",
    "    out = []\n",
    "    for row in processed_results['results']['bindings']:\n",
    "        item = []\n",
    "        for c in cols:\n",
    "            item.append(row.get(c, {}).get('value'))\n",
    "        out.append(item)\n",
    "\n",
    "    return pd.DataFrame(out, columns=cols)\n",
    "\n",
    "WDpopulation = get_sparql_dataframe(endpoint_url, queryWD)\n",
    "WDpopulation.info()"
   ]
  },
  {
   "cell_type": "code",
   "execution_count": 16,
   "metadata": {},
   "outputs": [],
   "source": [
    "#plotCountries"
   ]
  },
  {
   "cell_type": "code",
   "execution_count": 17,
   "metadata": {},
   "outputs": [
    {
     "data": {
      "text/html": [
       "<div>\n",
       "<style scoped>\n",
       "    .dataframe tbody tr th:only-of-type {\n",
       "        vertical-align: middle;\n",
       "    }\n",
       "\n",
       "    .dataframe tbody tr th {\n",
       "        vertical-align: top;\n",
       "    }\n",
       "\n",
       "    .dataframe thead th {\n",
       "        text-align: right;\n",
       "    }\n",
       "</style>\n",
       "<table border=\"1\" class=\"dataframe\">\n",
       "  <thead>\n",
       "    <tr style=\"text-align: right;\">\n",
       "      <th></th>\n",
       "      <th>total_vaccinations</th>\n",
       "      <th>vaccine</th>\n",
       "      <th>WD</th>\n",
       "      <th>_merge</th>\n",
       "    </tr>\n",
       "  </thead>\n",
       "  <tbody>\n",
       "    <tr>\n",
       "      <th>Bahrain</th>\n",
       "      <td>51556.0</td>\n",
       "      <td>Sinopharm</td>\n",
       "      <td>Q398</td>\n",
       "      <td>both</td>\n",
       "    </tr>\n",
       "    <tr>\n",
       "      <th>Belarus</th>\n",
       "      <td>NaN</td>\n",
       "      <td>NaN</td>\n",
       "      <td>Q184</td>\n",
       "      <td>right_only</td>\n",
       "    </tr>\n",
       "    <tr>\n",
       "      <th>Canada</th>\n",
       "      <td>43525.0</td>\n",
       "      <td>Pfizer/BioNTech</td>\n",
       "      <td>Q16</td>\n",
       "      <td>both</td>\n",
       "    </tr>\n",
       "    <tr>\n",
       "      <th>Chile</th>\n",
       "      <td>5090.0</td>\n",
       "      <td>Pfizer/BioNTech</td>\n",
       "      <td>Q298</td>\n",
       "      <td>both</td>\n",
       "    </tr>\n",
       "    <tr>\n",
       "      <th>China</th>\n",
       "      <td>1000000.0</td>\n",
       "      <td>CNBG, Sinovac</td>\n",
       "      <td>Q148</td>\n",
       "      <td>both</td>\n",
       "    </tr>\n",
       "    <tr>\n",
       "      <th>Costa Rica</th>\n",
       "      <td>55.0</td>\n",
       "      <td>Pfizer/BioNTech</td>\n",
       "      <td>Q800</td>\n",
       "      <td>both</td>\n",
       "    </tr>\n",
       "    <tr>\n",
       "      <th>France</th>\n",
       "      <td>NaN</td>\n",
       "      <td>NaN</td>\n",
       "      <td>Q142</td>\n",
       "      <td>right_only</td>\n",
       "    </tr>\n",
       "    <tr>\n",
       "      <th>Germany</th>\n",
       "      <td>NaN</td>\n",
       "      <td>NaN</td>\n",
       "      <td>Q183</td>\n",
       "      <td>right_only</td>\n",
       "    </tr>\n",
       "    <tr>\n",
       "      <th>Hungary</th>\n",
       "      <td>NaN</td>\n",
       "      <td>NaN</td>\n",
       "      <td>Q28</td>\n",
       "      <td>right_only</td>\n",
       "    </tr>\n",
       "    <tr>\n",
       "      <th>Israel</th>\n",
       "      <td>208600.0</td>\n",
       "      <td>Pfizer/BioNTech</td>\n",
       "      <td>Q801</td>\n",
       "      <td>both</td>\n",
       "    </tr>\n",
       "    <tr>\n",
       "      <th>Mexico</th>\n",
       "      <td>2924.0</td>\n",
       "      <td>Pfizer/BioNTech</td>\n",
       "      <td>Q96</td>\n",
       "      <td>both</td>\n",
       "    </tr>\n",
       "    <tr>\n",
       "      <th>Russia</th>\n",
       "      <td>700000.0</td>\n",
       "      <td>Sputnik V</td>\n",
       "      <td>Q159</td>\n",
       "      <td>both</td>\n",
       "    </tr>\n",
       "    <tr>\n",
       "      <th>United Kingdom</th>\n",
       "      <td>800000.0</td>\n",
       "      <td>Pfizer/BioNTech</td>\n",
       "      <td>Q145</td>\n",
       "      <td>both</td>\n",
       "    </tr>\n",
       "    <tr>\n",
       "      <th>United States</th>\n",
       "      <td>1944585.0</td>\n",
       "      <td>Moderna, Pfizer/BioNTech</td>\n",
       "      <td>Q30</td>\n",
       "      <td>both</td>\n",
       "    </tr>\n",
       "  </tbody>\n",
       "</table>\n",
       "</div>"
      ],
      "text/plain": [
       "                total_vaccinations                   vaccine    WD      _merge\n",
       "Bahrain                    51556.0                 Sinopharm  Q398        both\n",
       "Belarus                        NaN                       NaN  Q184  right_only\n",
       "Canada                     43525.0           Pfizer/BioNTech   Q16        both\n",
       "Chile                       5090.0           Pfizer/BioNTech  Q298        both\n",
       "China                    1000000.0             CNBG, Sinovac  Q148        both\n",
       "Costa Rica                    55.0           Pfizer/BioNTech  Q800        both\n",
       "France                         NaN                       NaN  Q142  right_only\n",
       "Germany                        NaN                       NaN  Q183  right_only\n",
       "Hungary                        NaN                       NaN   Q28  right_only\n",
       "Israel                    208600.0           Pfizer/BioNTech  Q801        both\n",
       "Mexico                      2924.0           Pfizer/BioNTech   Q96        both\n",
       "Russia                    700000.0                 Sputnik V  Q159        both\n",
       "United Kingdom            800000.0           Pfizer/BioNTech  Q145        both\n",
       "United States            1944585.0  Moderna, Pfizer/BioNTech   Q30        both"
      ]
     },
     "execution_count": 17,
     "metadata": {},
     "output_type": "execute_result"
    }
   ],
   "source": [
    "plotCountriesPopulation = pd.merge(plotCountries, reconciliationCountries,how='outer', left_index=True, right_index=True,indicator=True)   \n",
    "plotCountriesPopulation"
   ]
  },
  {
   "cell_type": "markdown",
   "metadata": {},
   "source": [
    "## New countries"
   ]
  },
  {
   "cell_type": "code",
   "execution_count": 18,
   "metadata": {},
   "outputs": [
    {
     "data": {
      "text/html": [
       "<div>\n",
       "<style scoped>\n",
       "    .dataframe tbody tr th:only-of-type {\n",
       "        vertical-align: middle;\n",
       "    }\n",
       "\n",
       "    .dataframe tbody tr th {\n",
       "        vertical-align: top;\n",
       "    }\n",
       "\n",
       "    .dataframe thead th {\n",
       "        text-align: right;\n",
       "    }\n",
       "</style>\n",
       "<table border=\"1\" class=\"dataframe\">\n",
       "  <thead>\n",
       "    <tr style=\"text-align: right;\">\n",
       "      <th></th>\n",
       "      <th>total_vaccinations</th>\n",
       "      <th>vaccine</th>\n",
       "      <th>WD</th>\n",
       "      <th>_merge</th>\n",
       "    </tr>\n",
       "  </thead>\n",
       "  <tbody>\n",
       "  </tbody>\n",
       "</table>\n",
       "</div>"
      ],
      "text/plain": [
       "Empty DataFrame\n",
       "Columns: [total_vaccinations, vaccine, WD, _merge]\n",
       "Index: []"
      ]
     },
     "execution_count": 18,
     "metadata": {},
     "output_type": "execute_result"
    }
   ],
   "source": [
    "#Missing\n",
    "WDmissing = plotCountriesPopulation[plotCountriesPopulation[\"_merge\"] == \"left_only\"].copy()\n",
    "WDmissing"
   ]
  },
  {
   "cell_type": "code",
   "execution_count": 19,
   "metadata": {},
   "outputs": [],
   "source": [
    "del plotCountriesPopulation['_merge']\n"
   ]
  },
  {
   "cell_type": "code",
   "execution_count": 20,
   "metadata": {},
   "outputs": [],
   "source": [
    "plotCountriesPopulation = pd.merge(plotCountries, reconciliationCountries,how='inner', left_index=True, right_index=True)  \n",
    "#WDpopulation.sample(5)"
   ]
  },
  {
   "cell_type": "code",
   "execution_count": 21,
   "metadata": {},
   "outputs": [
    {
     "data": {
      "text/html": [
       "<div>\n",
       "<style scoped>\n",
       "    .dataframe tbody tr th:only-of-type {\n",
       "        vertical-align: middle;\n",
       "    }\n",
       "\n",
       "    .dataframe tbody tr th {\n",
       "        vertical-align: top;\n",
       "    }\n",
       "\n",
       "    .dataframe thead th {\n",
       "        text-align: right;\n",
       "    }\n",
       "</style>\n",
       "<table border=\"1\" class=\"dataframe\">\n",
       "  <thead>\n",
       "    <tr style=\"text-align: right;\">\n",
       "      <th></th>\n",
       "      <th>total_vaccinations</th>\n",
       "      <th>vaccine</th>\n",
       "      <th>WD</th>\n",
       "      <th>country</th>\n",
       "      <th>qid</th>\n",
       "      <th>population</th>\n",
       "      <th>ISO3166_1</th>\n",
       "      <th>nominalGDPperCapita</th>\n",
       "      <th>PPP_GDP_per_capita</th>\n",
       "      <th>Human_Development_Index</th>\n",
       "      <th>_merge</th>\n",
       "    </tr>\n",
       "    <tr>\n",
       "      <th>countryLabel</th>\n",
       "      <th></th>\n",
       "      <th></th>\n",
       "      <th></th>\n",
       "      <th></th>\n",
       "      <th></th>\n",
       "      <th></th>\n",
       "      <th></th>\n",
       "      <th></th>\n",
       "      <th></th>\n",
       "      <th></th>\n",
       "      <th></th>\n",
       "    </tr>\n",
       "  </thead>\n",
       "  <tbody>\n",
       "    <tr>\n",
       "      <th>Bahrain</th>\n",
       "      <td>51556</td>\n",
       "      <td>Sinopharm</td>\n",
       "      <td>Q398</td>\n",
       "      <td>http://www.wikidata.org/entity/Q398</td>\n",
       "      <td>Q398</td>\n",
       "      <td>1492584</td>\n",
       "      <td>BHR</td>\n",
       "      <td>23739</td>\n",
       "      <td>47708.055</td>\n",
       "      <td>0.824</td>\n",
       "      <td>both</td>\n",
       "    </tr>\n",
       "    <tr>\n",
       "      <th>Canada</th>\n",
       "      <td>43525</td>\n",
       "      <td>Pfizer/BioNTech</td>\n",
       "      <td>Q16</td>\n",
       "      <td>http://www.wikidata.org/entity/Q16</td>\n",
       "      <td>Q16</td>\n",
       "      <td>37894799</td>\n",
       "      <td>CAN</td>\n",
       "      <td>44870</td>\n",
       "      <td>46509.717</td>\n",
       "      <td>0.926</td>\n",
       "      <td>both</td>\n",
       "    </tr>\n",
       "    <tr>\n",
       "      <th>Chile</th>\n",
       "      <td>5090</td>\n",
       "      <td>Pfizer/BioNTech</td>\n",
       "      <td>Q298</td>\n",
       "      <td>http://www.wikidata.org/entity/Q298</td>\n",
       "      <td>Q298</td>\n",
       "      <td>18054726</td>\n",
       "      <td>CHL</td>\n",
       "      <td>15346</td>\n",
       "      <td>24747.307</td>\n",
       "      <td>0.832</td>\n",
       "      <td>both</td>\n",
       "    </tr>\n",
       "    <tr>\n",
       "      <th>People's Republic of China</th>\n",
       "      <td>1000000</td>\n",
       "      <td>CNBG, Sinovac</td>\n",
       "      <td>Q148</td>\n",
       "      <td>http://www.wikidata.org/entity/Q148</td>\n",
       "      <td>Q148</td>\n",
       "      <td>1409517397</td>\n",
       "      <td>CHN</td>\n",
       "      <td>8826</td>\n",
       "      <td>16842.408</td>\n",
       "      <td>0.752</td>\n",
       "      <td>both</td>\n",
       "    </tr>\n",
       "    <tr>\n",
       "      <th>Costa Rica</th>\n",
       "      <td>55</td>\n",
       "      <td>Pfizer/BioNTech</td>\n",
       "      <td>Q800</td>\n",
       "      <td>http://www.wikidata.org/entity/Q800</td>\n",
       "      <td>Q800</td>\n",
       "      <td>4905769</td>\n",
       "      <td>CRI</td>\n",
       "      <td>11677</td>\n",
       "      <td>17109.751</td>\n",
       "      <td>0.794</td>\n",
       "      <td>both</td>\n",
       "    </tr>\n",
       "    <tr>\n",
       "      <th>Israel</th>\n",
       "      <td>208600</td>\n",
       "      <td>Pfizer/BioNTech</td>\n",
       "      <td>Q801</td>\n",
       "      <td>http://www.wikidata.org/entity/Q801</td>\n",
       "      <td>Q801</td>\n",
       "      <td>9093000</td>\n",
       "      <td>ISR</td>\n",
       "      <td>40543</td>\n",
       "      <td>38867.762</td>\n",
       "      <td>0.899</td>\n",
       "      <td>both</td>\n",
       "    </tr>\n",
       "    <tr>\n",
       "      <th>Mexico</th>\n",
       "      <td>2924</td>\n",
       "      <td>Pfizer/BioNTech</td>\n",
       "      <td>Q96</td>\n",
       "      <td>http://www.wikidata.org/entity/Q96</td>\n",
       "      <td>Q96</td>\n",
       "      <td>130526945</td>\n",
       "      <td>MEX</td>\n",
       "      <td>8910</td>\n",
       "      <td>18655.922</td>\n",
       "      <td>0.756</td>\n",
       "      <td>both</td>\n",
       "    </tr>\n",
       "    <tr>\n",
       "      <th>Russia</th>\n",
       "      <td>700000</td>\n",
       "      <td>Sputnik V</td>\n",
       "      <td>Q159</td>\n",
       "      <td>http://www.wikidata.org/entity/Q159</td>\n",
       "      <td>Q159</td>\n",
       "      <td>146804372</td>\n",
       "      <td>RUS</td>\n",
       "      <td>10749</td>\n",
       "      <td>25763.259</td>\n",
       "      <td>0.816</td>\n",
       "      <td>both</td>\n",
       "    </tr>\n",
       "    <tr>\n",
       "      <th>United Kingdom</th>\n",
       "      <td>800000</td>\n",
       "      <td>Pfizer/BioNTech</td>\n",
       "      <td>Q145</td>\n",
       "      <td>http://www.wikidata.org/entity/Q145</td>\n",
       "      <td>Q145</td>\n",
       "      <td>66022273</td>\n",
       "      <td>GBR</td>\n",
       "      <td>39953</td>\n",
       "      <td>44920.452</td>\n",
       "      <td>0.922</td>\n",
       "      <td>both</td>\n",
       "    </tr>\n",
       "    <tr>\n",
       "      <th>United States of America</th>\n",
       "      <td>1944585</td>\n",
       "      <td>Moderna, Pfizer/BioNTech</td>\n",
       "      <td>Q30</td>\n",
       "      <td>http://www.wikidata.org/entity/Q30</td>\n",
       "      <td>Q30</td>\n",
       "      <td>328239523</td>\n",
       "      <td>USA</td>\n",
       "      <td>59927</td>\n",
       "      <td>59927.93</td>\n",
       "      <td>0.92</td>\n",
       "      <td>both</td>\n",
       "    </tr>\n",
       "  </tbody>\n",
       "</table>\n",
       "</div>"
      ],
      "text/plain": [
       "                            total_vaccinations  ... _merge\n",
       "countryLabel                                    ...       \n",
       "Bahrain                                  51556  ...   both\n",
       "Canada                                   43525  ...   both\n",
       "Chile                                     5090  ...   both\n",
       "People's Republic of China             1000000  ...   both\n",
       "Costa Rica                                  55  ...   both\n",
       "Israel                                  208600  ...   both\n",
       "Mexico                                    2924  ...   both\n",
       "Russia                                  700000  ...   both\n",
       "United Kingdom                          800000  ...   both\n",
       "United States of America               1944585  ...   both\n",
       "\n",
       "[10 rows x 11 columns]"
      ]
     },
     "execution_count": 21,
     "metadata": {},
     "output_type": "execute_result"
    }
   ],
   "source": [
    "CountriesData = pd.merge(plotCountriesPopulation, WDpopulation,how='inner', left_on='WD', right_on='qid',indicator=True)   \n",
    "CountriesData = CountriesData.set_index('countryLabel')\n",
    "CountriesData\n"
   ]
  },
  {
   "cell_type": "code",
   "execution_count": 22,
   "metadata": {},
   "outputs": [
    {
     "name": "stdout",
     "output_type": "stream",
     "text": [
      "<class 'pandas.core.frame.DataFrame'>\n",
      "Index: 10 entries, Bahrain to United States of America\n",
      "Data columns (total 11 columns):\n",
      " #   Column                   Non-Null Count  Dtype   \n",
      "---  ------                   --------------  -----   \n",
      " 0   total_vaccinations       10 non-null     int64   \n",
      " 1   vaccine                  10 non-null     object  \n",
      " 2   WD                       10 non-null     object  \n",
      " 3   country                  10 non-null     object  \n",
      " 4   qid                      10 non-null     object  \n",
      " 5   population               10 non-null     int64   \n",
      " 6   ISO3166_1                10 non-null     object  \n",
      " 7   nominalGDPperCapita      10 non-null     int64   \n",
      " 8   PPP_GDP_per_capita       10 non-null     float64 \n",
      " 9   Human_Development_Index  10 non-null     float64 \n",
      " 10  _merge                   10 non-null     category\n",
      "dtypes: category(1), float64(2), int64(3), object(5)\n",
      "memory usage: 994.0+ bytes\n"
     ]
    }
   ],
   "source": [
    "#del CountriesData['country']\n",
    "#del CountriesData['qid']\n",
    "#del CountriesData['_merge']\n",
    "\n",
    "CountriesData['population'] = CountriesData['population'].astype(int)\n",
    "CountriesData['nominalGDPperCapita'] = CountriesData['nominalGDPperCapita'].astype(int)\n",
    "CountriesData['PPP_GDP_per_capita'] = CountriesData['PPP_GDP_per_capita'].astype(float)\n",
    "CountriesData['Human_Development_Index'] = CountriesData['Human_Development_Index'].astype(float)\n",
    "\n",
    "CountriesData.info()"
   ]
  },
  {
   "cell_type": "code",
   "execution_count": 23,
   "metadata": {},
   "outputs": [],
   "source": [
    "CountriesData['Country'] = CountriesData.index"
   ]
  },
  {
   "cell_type": "code",
   "execution_count": 24,
   "metadata": {},
   "outputs": [
    {
     "data": {
      "text/plain": [
       "total_vaccinations                 1.000000\n",
       "population                         0.475507\n",
       "nominalGDPperCapita                0.477651\n",
       "PPP_GDP_per_capita                 0.427335\n",
       "Human_Development_Index            0.284926\n",
       "vaccinations_population_percent   -0.108212\n",
       "Name: total_vaccinations, dtype: float64"
      ]
     },
     "execution_count": 24,
     "metadata": {},
     "output_type": "execute_result"
    }
   ],
   "source": [
    "CountriesData[\"vaccinations_population_percent\"] = CountriesData[\"total_vaccinations\"]/CountriesData[\"population\"] * 100\n",
    "\n",
    "correlations = CountriesData.corr()  \n",
    "correlations[\"total_vaccinations\"]"
   ]
  },
  {
   "cell_type": "code",
   "execution_count": 25,
   "metadata": {},
   "outputs": [
    {
     "data": {
      "text/plain": [
       "total_vaccinations                -0.108212\n",
       "population                        -0.284379\n",
       "nominalGDPperCapita                0.267258\n",
       "PPP_GDP_per_capita                 0.504942\n",
       "Human_Development_Index            0.256490\n",
       "vaccinations_population_percent    1.000000\n",
       "Name: vaccinations_population_percent, dtype: float64"
      ]
     },
     "execution_count": 25,
     "metadata": {},
     "output_type": "execute_result"
    }
   ],
   "source": [
    "correlations[\"vaccinations_population_percent\"]"
   ]
  },
  {
   "cell_type": "code",
   "execution_count": 26,
   "metadata": {},
   "outputs": [
    {
     "data": {
      "image/png": "[encoded data removed]",
      "text/plain": [
       "<Figure size 360x360 with 2 Axes>"
      ]
     },
     "metadata": {
      "needs_background": "light"
     },
     "output_type": "display_data"
    }
   ],
   "source": [
    "import seaborn as sns\n",
    "plt.rcParams['figure.figsize'] = (5.0, 5.0)\n",
    "sns.heatmap(correlations)\n",
    "plt.show()"
   ]
  },
  {
   "cell_type": "code",
   "execution_count": 27,
   "metadata": {},
   "outputs": [
    {
     "data": {
      "text/html": [
       "<div>\n",
       "<style scoped>\n",
       "    .dataframe tbody tr th:only-of-type {\n",
       "        vertical-align: middle;\n",
       "    }\n",
       "\n",
       "    .dataframe tbody tr th {\n",
       "        vertical-align: top;\n",
       "    }\n",
       "\n",
       "    .dataframe thead th {\n",
       "        text-align: right;\n",
       "    }\n",
       "</style>\n",
       "<table border=\"1\" class=\"dataframe\">\n",
       "  <thead>\n",
       "    <tr style=\"text-align: right;\">\n",
       "      <th></th>\n",
       "      <th>vaccinations_population_percent</th>\n",
       "      <th>population</th>\n",
       "      <th>total_vaccinations</th>\n",
       "    </tr>\n",
       "    <tr>\n",
       "      <th>countryLabel</th>\n",
       "      <th></th>\n",
       "      <th></th>\n",
       "      <th></th>\n",
       "    </tr>\n",
       "  </thead>\n",
       "  <tbody>\n",
       "    <tr>\n",
       "      <th>Bahrain</th>\n",
       "      <td>3.454144</td>\n",
       "      <td>1492584</td>\n",
       "      <td>51556</td>\n",
       "    </tr>\n",
       "    <tr>\n",
       "      <th>Israel</th>\n",
       "      <td>2.294072</td>\n",
       "      <td>9093000</td>\n",
       "      <td>208600</td>\n",
       "    </tr>\n",
       "    <tr>\n",
       "      <th>United Kingdom</th>\n",
       "      <td>1.211712</td>\n",
       "      <td>66022273</td>\n",
       "      <td>800000</td>\n",
       "    </tr>\n",
       "    <tr>\n",
       "      <th>United States of America</th>\n",
       "      <td>0.592429</td>\n",
       "      <td>328239523</td>\n",
       "      <td>1944585</td>\n",
       "    </tr>\n",
       "    <tr>\n",
       "      <th>Russia</th>\n",
       "      <td>0.476825</td>\n",
       "      <td>146804372</td>\n",
       "      <td>700000</td>\n",
       "    </tr>\n",
       "    <tr>\n",
       "      <th>Canada</th>\n",
       "      <td>0.114857</td>\n",
       "      <td>37894799</td>\n",
       "      <td>43525</td>\n",
       "    </tr>\n",
       "    <tr>\n",
       "      <th>People's Republic of China</th>\n",
       "      <td>0.070946</td>\n",
       "      <td>1409517397</td>\n",
       "      <td>1000000</td>\n",
       "    </tr>\n",
       "    <tr>\n",
       "      <th>Chile</th>\n",
       "      <td>0.028192</td>\n",
       "      <td>18054726</td>\n",
       "      <td>5090</td>\n",
       "    </tr>\n",
       "    <tr>\n",
       "      <th>Mexico</th>\n",
       "      <td>0.002240</td>\n",
       "      <td>130526945</td>\n",
       "      <td>2924</td>\n",
       "    </tr>\n",
       "    <tr>\n",
       "      <th>Costa Rica</th>\n",
       "      <td>0.001121</td>\n",
       "      <td>4905769</td>\n",
       "      <td>55</td>\n",
       "    </tr>\n",
       "  </tbody>\n",
       "</table>\n",
       "</div>"
      ],
      "text/plain": [
       "                            vaccinations_population_percent  ...  total_vaccinations\n",
       "countryLabel                                                 ...                    \n",
       "Bahrain                                            3.454144  ...               51556\n",
       "Israel                                             2.294072  ...              208600\n",
       "United Kingdom                                     1.211712  ...              800000\n",
       "United States of America                           0.592429  ...             1944585\n",
       "Russia                                             0.476825  ...              700000\n",
       "Canada                                             0.114857  ...               43525\n",
       "People's Republic of China                         0.070946  ...             1000000\n",
       "Chile                                              0.028192  ...                5090\n",
       "Mexico                                             0.002240  ...                2924\n",
       "Costa Rica                                         0.001121  ...                  55\n",
       "\n",
       "[10 rows x 3 columns]"
      ]
     },
     "execution_count": 27,
     "metadata": {},
     "output_type": "execute_result"
    }
   ],
   "source": [
    "CountriesData = CountriesData.sort_values(by=['vaccinations_population_percent'],ascending=False)\n",
    "CountriesData[{\"total_vaccinations\",\"population\",\"vaccinations_population_percent\"}]"
   ]
  },
  {
   "cell_type": "code",
   "execution_count": 28,
   "metadata": {},
   "outputs": [
    {
     "data": {
      "image/png": "[encoded data removed]",
      "text/plain": [
       "<Figure size 1080x720 with 1 Axes>"
      ]
     },
     "metadata": {},
     "output_type": "display_data"
    }
   ],
   "source": [
    "plt.rcParams['figure.figsize'] = (15.0, 10.0)\n",
    "sns.set(style=\"whitegrid\", palette=\"rainbow\") \n",
    "sns.barplot( x = \"ISO3166_1\",y = \"vaccinations_population_percent\", data=CountriesData). \\\n",
    "            set_title(\"Vaccination numbers per population % - \" + start_time.strftime('%Y %m %d'),fontsize=30)\n",
    "plt.ylabel(\"percent of population\",fontsize=20)\n",
    "plt.xlabel(\"Country\",fontsize=30)\n",
    "plt.savefig(\"Corona_VaccinationperCountryPopulation_sns_2.png\")"
   ]
  },
  {
   "cell_type": "code",
   "execution_count": null,
   "metadata": {},
   "outputs": [],
   "source": []
  }
 ],
 "metadata": {
  "kernelspec": {
   "display_name": "Python 3",
   "language": "python",
   "name": "python3"
  },
  "language_info": {
   "codemirror_mode": {
    "name": "ipython",
    "version": 3
   },
   "file_extension": ".py",
   "mimetype": "text/x-python",
   "name": "python",
   "nbconvert_exporter": "python",
   "pygments_lexer": "ipython3",
   "version": "3.8.0"
  }
 },
 "nbformat": 4,
 "nbformat_minor": 4
}
